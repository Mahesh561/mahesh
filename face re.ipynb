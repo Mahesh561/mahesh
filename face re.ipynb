{
    "nbformat_minor": 1, 
    "cells": [
        {
            "execution_count": 1, 
            "cell_type": "code", 
            "metadata": {}, 
            "outputs": [], 
            "source": "# The code was removed by Watson Studio for sharing."
        }, 
        {
            "execution_count": 2, 
            "cell_type": "code", 
            "metadata": {}, 
            "outputs": [
                {
                    "output_type": "stream", 
                    "name": "stdout", 
                    "text": "Collecting openCV-python\n\u001b[?25l  Downloading https://files.pythonhosted.org/packages/fe/c8/421eeac942ebc89552a5c90c2141b936be9cfde24dc3c6eeb472c62d1f8e/opencv_python-4.1.0.25-cp35-cp35m-manylinux1_x86_64.whl (26.6MB)\n\u001b[K    100% |\u2588\u2588\u2588\u2588\u2588\u2588\u2588\u2588\u2588\u2588\u2588\u2588\u2588\u2588\u2588\u2588\u2588\u2588\u2588\u2588\u2588\u2588\u2588\u2588\u2588\u2588\u2588\u2588\u2588\u2588\u2588\u2588| 26.6MB 1.6MB/s eta 0:00:01\n\u001b[?25hRequirement already satisfied: numpy>=1.11.1 in /opt/conda/envs/DSX-Python35/lib/python3.5/site-packages (from openCV-python) (1.13.3)\n\u001b[31mtensorflow 1.3.0 requires tensorflow-tensorboard<0.2.0,>=0.1.0, which is not installed.\u001b[0m\nInstalling collected packages: openCV-python\nSuccessfully installed openCV-python-4.1.0.25\n"
                }
            ], 
            "source": "import pandas as pd\nimport numpy as np\nimport os\n!pip install openCV-python"
        }, 
        {
            "execution_count": 4, 
            "cell_type": "code", 
            "metadata": {}, 
            "outputs": [], 
            "source": "import cv2\n"
        }, 
        {
            "execution_count": 3, 
            "cell_type": "code", 
            "metadata": {}, 
            "outputs": [], 
            "source": "path=r\"C:\\Users\\mahes\\OneDrive\\Pictures\\Camera Roll\"\ncv_detect_face=r\"D:\\haarcascade_frontalface_default.xml\""
        }, 
        {
            "execution_count": null, 
            "cell_type": "code", 
            "metadata": {}, 
            "outputs": [], 
            "source": "import cv2\nimport os\nname=\"charan\"\nnum_of_images=10\nweb=cv2.VideoCapture(0)\nhaar_cascade_face = cv2.CascadeClassifier(cv_detect_face)\nos.makedirs(os.path.join(path,'charan'),exist_ok=True)\ncount=0\nwhile count<num_of_images:\n    _,im=web.read()\n    try:\n            faces=haar_cascade_face.detectMultiScale(im,1.3, 4)\n    except:\n        continue\n    gray = cv2.cvtColor(im, cv2.COLOR_BGR2GRAY)\n    for x,y,w,h in faces:\n        face = gray[y:y + h, x:x + w] \n        face_resize = cv2.resize(face, (w, h))\n        cv2.imwrite('%s/%s.png'%(os.path.join(path,'charan'), count),face_resize)\n        if count//10==0:\n            print(count,end='')\n    count+=1\n    key = cv2.waitKey(10) \n    if key == 27: \n        break\ncv2.destroyAllWindows()\nweb.release()"
        }, 
        {
            "execution_count": null, 
            "cell_type": "code", 
            "metadata": {}, 
            "outputs": [], 
            "source": ""
        }
    ], 
    "metadata": {
        "kernelspec": {
            "display_name": "Python 3.5", 
            "name": "python3", 
            "language": "python"
        }, 
        "language_info": {
            "mimetype": "text/x-python", 
            "nbconvert_exporter": "python", 
            "version": "3.5.5", 
            "name": "python", 
            "file_extension": ".py", 
            "pygments_lexer": "ipython3", 
            "codemirror_mode": {
                "version": 3, 
                "name": "ipython"
            }
        }
    }, 
    "nbformat": 4
}